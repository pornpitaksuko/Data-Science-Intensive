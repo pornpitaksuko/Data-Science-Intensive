{
 "cells": [
  {
   "cell_type": "markdown",
   "metadata": {},
   "source": [
    "# JSON examples and exercise\n",
    "****\n",
    "+ get familiar with packages for dealing with JSON\n",
    "+ study examples with JSON strings and files \n",
    "+ work on exercise to be completed and submitted \n",
    "****\n",
    "+ reference: http://pandas.pydata.org/pandas-docs/stable/io.html#io-json-reader\n",
    "+ data source: http://jsonstudio.com/resources/\n",
    "****"
   ]
  },
  {
   "cell_type": "code",
   "execution_count": 3,
   "metadata": {
    "collapsed": true
   },
   "outputs": [],
   "source": [
    "import pandas as pd"
   ]
  },
  {
   "cell_type": "markdown",
   "metadata": {},
   "source": [
    "## imports for Python, Pandas"
   ]
  },
  {
   "cell_type": "code",
   "execution_count": 4,
   "metadata": {
    "collapsed": true
   },
   "outputs": [],
   "source": [
    "import json\n",
    "from pandas.io.json import json_normalize"
   ]
  },
  {
   "cell_type": "markdown",
   "metadata": {},
   "source": [
    "****\n",
    "## JSON exercise\n",
    "\n",
    "Using data in file 'data/world_bank_projects.json' and the techniques demonstrated above,\n",
    "1. Find the 10 countries with most projects\n",
    "2. Find the top 10 major project themes (using column 'mjtheme_namecode')\n",
    "3. In 2. above you will notice that some entries have only the code and the name is missing. Create a dataframe with the missing names filled in."
   ]
  },
  {
   "cell_type": "code",
   "execution_count": 39,
   "metadata": {
    "collapsed": false
   },
   "outputs": [
    {
     "data": {
      "text/plain": [
       "China                 19\n",
       "Indonesia             19\n",
       "Vietnam               17\n",
       "India                 16\n",
       "Yemen, Republic of    13\n",
       "Morocco               12\n",
       "Bangladesh            12\n",
       "Nepal                 12\n",
       "Mozambique            11\n",
       "Africa                11\n",
       "Name: countryshortname, dtype: int64"
      ]
     },
     "execution_count": 39,
     "metadata": {},
     "output_type": "execute_result"
    }
   ],
   "source": [
    "## load the json data set as a string and create a data frame\n",
    "json.load((open('data/world_bank_projects.json')))\n",
    "json_df = pd.read_json('data/world_bank_projects.json')\n",
    "\n",
    "##count the countries that appear the most often in the project listing\n",
    "most_projects = json_df['countryshortname'].value_counts()[0:10]\n",
    "most_projects"
   ]
  },
  {
   "cell_type": "code",
   "execution_count": 156,
   "metadata": {
    "collapsed": false
   },
   "outputs": [
    {
     "name": "stderr",
     "output_type": "stream",
     "text": [
      "C:\\Users\\Olarn\\Anaconda3\\lib\\site-packages\\pandas\\core\\indexing.py:549: SettingWithCopyWarning: \n",
      "A value is trying to be set on a copy of a slice from a DataFrame.\n",
      "Try using .loc[row_indexer,col_indexer] = value instead\n",
      "\n",
      "See the caveats in the documentation: http://pandas.pydata.org/pandas-docs/stable/indexing.html#indexing-view-versus-copy\n",
      "  self.obj[item_labels[indexer[info_axis]]] = value\n"
     ]
    },
    {
     "data": {
      "text/plain": [
       "Environment and natural resources management    250\n",
       "Rural development                               216\n",
       "Human development                               210\n",
       "Public sector governance                        199\n",
       "Social protection and risk management           168\n",
       "Financial and private sector development        146\n",
       "Social dev/gender/inclusion                     130\n",
       "Trade and integration                            77\n",
       "Urban development                                50\n",
       "Economic management                              38\n",
       "Name: name, dtype: int64"
      ]
     },
     "execution_count": 156,
     "metadata": {},
     "output_type": "execute_result"
    }
   ],
   "source": [
    "import numpy as np\n",
    "\n",
    "#create a temporary dataframe for the column with the project themes\n",
    "temp = json_df['mjtheme_namecode']\n",
    "\n",
    "#unlists (or unnest) the dictionary. The dictionary was nested in a list within the data frame. We can remove this\n",
    "#by summing the data frame with a list.\n",
    "temp1 = sum(temp,[])\n",
    "\n",
    "#normalize or flatten the list to create a table with the codes and the respective labels\n",
    "mjtheme_df = json_normalize(temp1)\n",
    "\n",
    "#select all values in the data frame that DOES NOT have a missing value ('') in the second column and create a new data frame\n",
    "mjtheme1 = mjtheme_df[mjtheme_df.iloc[:,1] != '']\n",
    "\n",
    "#create an empty dictionary, which will be populated with key value pairs\n",
    "mjtheme_dictkey = {}\n",
    "\n",
    "#iterate through the dataframe with no missing values to create a dictionary wuith the key value pairs\n",
    "for i in range(len(mjtheme1)):\n",
    "\n",
    "    mjtheme_dictkey[mjtheme1.iloc[i,0]] = mjtheme1.iloc[i,1]\n",
    "\n",
    "#now select the values in the data frame that did have missing values so we can populate them with the newly created dictionary\n",
    "mjtheme2 = mjtheme_df[mjtheme_df.iloc[:,1] == '']\n",
    "\n",
    "#replace the missing values using the dictionary, and merge it back into the original dataset\n",
    "mjtheme3 = mjtheme2.replace({'code' : mjtheme_dictkey})\n",
    "mjtheme2.iloc[:,1] = mjtheme3\n",
    "mjtheme_df.update(mjtheme2)\n",
    "\n",
    "#count the most frequently occuring project themes (or column label 'names')\n",
    "mjtheme_df.iloc[:,1].value_counts()[0:10]\n",
    "mjtheme_df"
   ]
  }
 ],
 "metadata": {
  "anaconda-cloud": {},
  "kernelspec": {
   "display_name": "Python [conda root]",
   "language": "python",
   "name": "conda-root-py"
  },
  "language_info": {
   "codemirror_mode": {
    "name": "ipython",
    "version": 3
   },
   "file_extension": ".py",
   "mimetype": "text/x-python",
   "name": "python",
   "nbconvert_exporter": "python",
   "pygments_lexer": "ipython3",
   "version": "3.5.2"
  }
 },
 "nbformat": 4,
 "nbformat_minor": 0
}
