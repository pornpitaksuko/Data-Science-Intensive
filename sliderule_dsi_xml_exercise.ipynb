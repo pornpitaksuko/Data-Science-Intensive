{
 "cells": [
  {
   "cell_type": "markdown",
   "metadata": {},
   "source": [
    "# XML example and exercise\n",
    "****\n",
    "+ study examples of accessing nodes in XML tree structure  \n",
    "+ work on exercise to be completed and submitted\n",
    "****\n",
    "+ reference: https://docs.python.org/2.7/library/xml.etree.elementtree.html\n",
    "+ data source: http://www.dbis.informatik.uni-goettingen.de/Mondial\n",
    "****"
   ]
  },
  {
   "cell_type": "code",
   "execution_count": 24,
   "metadata": {
    "collapsed": false
   },
   "outputs": [],
   "source": [
    "from xml.etree import ElementTree as ET\n",
    "import urllib"
   ]
  },
  {
   "cell_type": "markdown",
   "metadata": {},
   "source": [
    "## XML example\n",
    "\n",
    "+ for details about tree traversal and iterators, see https://docs.python.org/2.7/library/xml.etree.elementtree.html"
   ]
  },
  {
   "cell_type": "code",
   "execution_count": 54,
   "metadata": {
    "collapsed": false
   },
   "outputs": [],
   "source": [
    "document_tree = ET.parse( './data/mondial_database_less.xml' )\n",
    "import pandas as pd"
   ]
  },
  {
   "cell_type": "code",
   "execution_count": 52,
   "metadata": {
    "collapsed": false
   },
   "outputs": [
    {
     "name": "stdout",
     "output_type": "stream",
     "text": [
      "Albania\n",
      "Greece\n",
      "Macedonia\n",
      "Serbia\n",
      "Montenegro\n",
      "Kosovo\n",
      "Andorra\n"
     ]
    }
   ],
   "source": [
    "# print names of all countries\n",
    "for child in document_tree.getroot():\n",
    "    print (child.find('name').text)"
   ]
  },
  {
   "cell_type": "code",
   "execution_count": 53,
   "metadata": {
    "collapsed": false
   },
   "outputs": [
    {
     "name": "stdout",
     "output_type": "stream",
     "text": [
      "* Albania:\n",
      "Tirana, Shkodër, Durrës, Vlorë, Elbasan, Korçë\n",
      "* Greece:\n",
      "Komotini, Kavala, Athina, Peiraias, Peristeri, Acharnes, Patra, Kozani, Kerkyra, Ioannina, Thessaloniki, Iraklio, Chania, Ermoupoli, Rhodes, Tripoli, Lamia, Chalkida, Larissa, Volos, Mytilini, Karyes\n",
      "* Macedonia:\n",
      "Skopje, Kumanovo\n",
      "* Serbia:\n",
      "Beograd, Novi Sad, Niš\n",
      "* Montenegro:\n",
      "Podgorica\n",
      "* Kosovo:\n",
      "Prishtine\n",
      "* Andorra:\n",
      "Andorra la Vella\n"
     ]
    }
   ],
   "source": [
    "# print names of all countries and their cities\n",
    "for element in document_tree.iterfind('country'):\n",
    "    print ('* ' + element.find('name').text + ':'),\n",
    "    capitals_string = ''\n",
    "    for subelement in element.getiterator('city'):\n",
    "        capitals_string += subelement.find('name').text + ', '\n",
    "    print (capitals_string[:-2])"
   ]
  },
  {
   "cell_type": "markdown",
   "metadata": {},
   "source": [
    "****\n",
    "## XML exercise\n",
    "\n",
    "Using data in 'data/mondial_database.xml', the examples above, and refering to https://docs.python.org/2.7/library/xml.etree.elementtree.html, find\n",
    "\n",
    "1. 10 countries with the lowest infant mortality rates\n",
    "2. 10 cities with the largest population\n",
    "3. 10 ethnic groups with the largest overall populations (sum of best/latest estimates over all countries)\n",
    "4. name and country of a) longest river, b) largest lake and c) airport at highest elevation"
   ]
  },
  {
   "cell_type": "code",
   "execution_count": 132,
   "metadata": {
    "collapsed": false
   },
   "outputs": [
    {
     "data": {
      "text/html": [
       "<div>\n",
       "<table border=\"1\" class=\"dataframe\">\n",
       "  <thead>\n",
       "    <tr style=\"text-align: right;\">\n",
       "      <th></th>\n",
       "      <th>Country</th>\n",
       "      <th>Infant Mortality</th>\n",
       "    </tr>\n",
       "  </thead>\n",
       "  <tbody>\n",
       "    <tr>\n",
       "      <th>36</th>\n",
       "      <td>Monaco</td>\n",
       "      <td>1.81</td>\n",
       "    </tr>\n",
       "    <tr>\n",
       "      <th>90</th>\n",
       "      <td>Japan</td>\n",
       "      <td>2.13</td>\n",
       "    </tr>\n",
       "    <tr>\n",
       "      <th>109</th>\n",
       "      <td>Bermuda</td>\n",
       "      <td>2.48</td>\n",
       "    </tr>\n",
       "    <tr>\n",
       "      <th>34</th>\n",
       "      <td>Norway</td>\n",
       "      <td>2.48</td>\n",
       "    </tr>\n",
       "    <tr>\n",
       "      <th>98</th>\n",
       "      <td>Singapore</td>\n",
       "      <td>2.53</td>\n",
       "    </tr>\n",
       "    <tr>\n",
       "      <th>35</th>\n",
       "      <td>Sweden</td>\n",
       "      <td>2.60</td>\n",
       "    </tr>\n",
       "    <tr>\n",
       "      <th>8</th>\n",
       "      <td>Czech Republic</td>\n",
       "      <td>2.63</td>\n",
       "    </tr>\n",
       "    <tr>\n",
       "      <th>72</th>\n",
       "      <td>Hong Kong</td>\n",
       "      <td>2.73</td>\n",
       "    </tr>\n",
       "    <tr>\n",
       "      <th>73</th>\n",
       "      <td>Macao</td>\n",
       "      <td>3.13</td>\n",
       "    </tr>\n",
       "    <tr>\n",
       "      <th>39</th>\n",
       "      <td>Iceland</td>\n",
       "      <td>3.15</td>\n",
       "    </tr>\n",
       "  </tbody>\n",
       "</table>\n",
       "</div>"
      ],
      "text/plain": [
       "            Country  Infant Mortality\n",
       "36           Monaco              1.81\n",
       "90            Japan              2.13\n",
       "109         Bermuda              2.48\n",
       "34           Norway              2.48\n",
       "98        Singapore              2.53\n",
       "35           Sweden              2.60\n",
       "8    Czech Republic              2.63\n",
       "72        Hong Kong              2.73\n",
       "73            Macao              3.13\n",
       "39          Iceland              3.15"
      ]
     },
     "execution_count": 132,
     "metadata": {},
     "output_type": "execute_result"
    }
   ],
   "source": [
    "#Question 1: 10 Countries with the lowest infant mortality rates\n",
    "\n",
    "import pandas as pd\n",
    "document = ET.parse( './data/mondial_database.xml' )\n",
    "\n",
    "im_df = [] #create a temporary list\n",
    "\n",
    "for element in document.iterfind('country'): #for all elements named country, we would like to...\n",
    "    if (element.find('infant_mortality')) != None:\n",
    "        name = element.find('name').text\n",
    "        name = str(name) #convert text to string\n",
    "        infant_mortality = element.find('infant_mortality').text\n",
    "        infant_mortality = float(infant_mortality) #convert the text to float\n",
    "        im_df.append([name,infant_mortality]) \n",
    "    else :\n",
    "        continue    \n",
    "im_df = pd.DataFrame(im_df, columns = ['Country','Infant Mortality']) #convert list to data frame\n",
    "im_df.sort_values('Infant Mortality')[0:10]\n",
    "\n"
   ]
  },
  {
   "cell_type": "code",
   "execution_count": 192,
   "metadata": {
    "collapsed": false
   },
   "outputs": [
    {
     "data": {
      "text/html": [
       "<div>\n",
       "<table border=\"1\" class=\"dataframe\">\n",
       "  <thead>\n",
       "    <tr style=\"text-align: right;\">\n",
       "      <th></th>\n",
       "      <th>population</th>\n",
       "    </tr>\n",
       "    <tr>\n",
       "      <th>city</th>\n",
       "      <th></th>\n",
       "    </tr>\n",
       "  </thead>\n",
       "  <tbody>\n",
       "    <tr>\n",
       "      <th>Seoul</th>\n",
       "      <td>10229262.0</td>\n",
       "    </tr>\n",
       "    <tr>\n",
       "      <th>Al Qahirah</th>\n",
       "      <td>8471859.0</td>\n",
       "    </tr>\n",
       "    <tr>\n",
       "      <th>Bangkok</th>\n",
       "      <td>7506700.0</td>\n",
       "    </tr>\n",
       "    <tr>\n",
       "      <th>Hong Kong</th>\n",
       "      <td>7055071.0</td>\n",
       "    </tr>\n",
       "    <tr>\n",
       "      <th>Ho Chi Minh</th>\n",
       "      <td>5968384.0</td>\n",
       "    </tr>\n",
       "    <tr>\n",
       "      <th>Singapore</th>\n",
       "      <td>5076700.0</td>\n",
       "    </tr>\n",
       "    <tr>\n",
       "      <th>Al Iskandariyah</th>\n",
       "      <td>4123869.0</td>\n",
       "    </tr>\n",
       "    <tr>\n",
       "      <th>New Taipei</th>\n",
       "      <td>3939305.0</td>\n",
       "    </tr>\n",
       "    <tr>\n",
       "      <th>Busan</th>\n",
       "      <td>3813814.0</td>\n",
       "    </tr>\n",
       "    <tr>\n",
       "      <th>Pyongyang</th>\n",
       "      <td>3255288.0</td>\n",
       "    </tr>\n",
       "  </tbody>\n",
       "</table>\n",
       "</div>"
      ],
      "text/plain": [
       "                 population\n",
       "city                       \n",
       "Seoul            10229262.0\n",
       "Al Qahirah        8471859.0\n",
       "Bangkok           7506700.0\n",
       "Hong Kong         7055071.0\n",
       "Ho Chi Minh       5968384.0\n",
       "Singapore         5076700.0\n",
       "Al Iskandariyah   4123869.0\n",
       "New Taipei        3939305.0\n",
       "Busan             3813814.0\n",
       "Pyongyang         3255288.0"
      ]
     },
     "execution_count": 192,
     "metadata": {},
     "output_type": "execute_result"
    }
   ],
   "source": [
    "#Question 2: 10 cities with the largest population\n",
    "\n",
    "df_population = []\n",
    "\n",
    "for element in document.iterfind('country'):\n",
    "    #country = element.find('name').text #included in case we're interested in countries\n",
    "    #country = str(country) #included in case we're interested in countries\n",
    "    for subelement in element.iterfind('city'):\n",
    "        city = subelement.find('name').text\n",
    "        city = str(city)\n",
    "        for subelement_1 in subelement.iterfind('population'):\n",
    "            population = subelement_1.text\n",
    "            population = float(population)\n",
    "            df_population.append([city,population])\n",
    "\n",
    "#df_population = pd.DataFrame(df_population, columns= ['country','city','population'])\n",
    "df_population = pd.DataFrame(df_population, columns= ['city','population'])\n",
    "df_population.groupby('city').max().sort_values('population',ascending = False)[0:10]\n"
   ]
  },
  {
   "cell_type": "code",
   "execution_count": 336,
   "metadata": {
    "collapsed": false
   },
   "outputs": [
    {
     "data": {
      "text/html": [
       "<div>\n",
       "<table border=\"1\" class=\"dataframe\">\n",
       "  <thead>\n",
       "    <tr style=\"text-align: right;\">\n",
       "      <th></th>\n",
       "      <th>ethnic_population</th>\n",
       "    </tr>\n",
       "    <tr>\n",
       "      <th>ethnic_group</th>\n",
       "      <th></th>\n",
       "    </tr>\n",
       "  </thead>\n",
       "  <tbody>\n",
       "    <tr>\n",
       "      <th>Han Chinese</th>\n",
       "      <td>1.245059e+09</td>\n",
       "    </tr>\n",
       "    <tr>\n",
       "      <th>Indo-Aryan</th>\n",
       "      <td>8.718156e+08</td>\n",
       "    </tr>\n",
       "    <tr>\n",
       "      <th>European</th>\n",
       "      <td>4.949395e+08</td>\n",
       "    </tr>\n",
       "    <tr>\n",
       "      <th>African</th>\n",
       "      <td>3.183597e+08</td>\n",
       "    </tr>\n",
       "    <tr>\n",
       "      <th>Dravidian</th>\n",
       "      <td>3.027137e+08</td>\n",
       "    </tr>\n",
       "    <tr>\n",
       "      <th>Mestizo</th>\n",
       "      <td>1.578553e+08</td>\n",
       "    </tr>\n",
       "    <tr>\n",
       "      <th>Bengali</th>\n",
       "      <td>1.467769e+08</td>\n",
       "    </tr>\n",
       "    <tr>\n",
       "      <th>Russian</th>\n",
       "      <td>1.368666e+08</td>\n",
       "    </tr>\n",
       "    <tr>\n",
       "      <th>Japanese</th>\n",
       "      <td>1.272890e+08</td>\n",
       "    </tr>\n",
       "    <tr>\n",
       "      <th>Malay</th>\n",
       "      <td>1.219936e+08</td>\n",
       "    </tr>\n",
       "  </tbody>\n",
       "</table>\n",
       "</div>"
      ],
      "text/plain": [
       "              ethnic_population\n",
       "ethnic_group                   \n",
       "Han Chinese        1.245059e+09\n",
       "Indo-Aryan         8.718156e+08\n",
       "European           4.949395e+08\n",
       "African            3.183597e+08\n",
       "Dravidian          3.027137e+08\n",
       "Mestizo            1.578553e+08\n",
       "Bengali            1.467769e+08\n",
       "Russian            1.368666e+08\n",
       "Japanese           1.272890e+08\n",
       "Malay              1.219936e+08"
      ]
     },
     "execution_count": 336,
     "metadata": {},
     "output_type": "execute_result"
    }
   ],
   "source": [
    "#Question 3: 10 ethnic groups with the largest worldwide population - sum of latest estimates over\n",
    "#all countries\n",
    "\n",
    "df_ethnicgroup = []\n",
    "df_population = []\n",
    "\n",
    "for element in document.iterfind('country'):\n",
    "    country = element.find('name').text\n",
    "    country = str(country)\n",
    "    for pop in element.iterfind('population'):\n",
    "        population = pop.text\n",
    "        population = float(population)\n",
    "        df_population.append([country,population])\n",
    "    for eg in element.iterfind('ethnicgroup'):\n",
    "        ethnic_group = eg.text\n",
    "        ethnic_group_percentage = eg.attrib\n",
    "        df_ethnicgroup.append([country,ethnic_group,ethnic_group_percentage])\n",
    "        \n",
    "\n",
    "df_ethnicgroup = pd.DataFrame(df_ethnicgroup, columns = ['country','ethnic_group','ethnic_group_percentage'])\n",
    "df_eg = []\n",
    "for x in range(len(eg_percentage)):\n",
    "    df_eg.append(float(eg_percentage[x].get('percentage')))                      \n",
    "df_ethnicgroup['eg_percentage'] = df_eg\n",
    "del df_ethnicgroup['ethnic_group_percentage']\n",
    "\n",
    "df_population = pd.DataFrame(df_population, columns = ['country','population'])\n",
    "df_population = df_population.groupby('country').max()\n",
    "population_dict = df_population['population'].to_dict()\n",
    "df_ethnicgroup['population'] = df_ethnicgroup['country'].map(population_dict)\n",
    "df_ethnicgroup['ethnic_population'] = df_ethnicgroup['eg_percentage']*df_ethnicgroup['population']*.01\n",
    "df_ethnicgroup = df_ethnicgroup.groupby('ethnic_group').sum().sort_values('ethnic_population', ascending = False)[0:10]\n",
    "del df_ethnicgroup['eg_percentage']\n",
    "del df_ethnicgroup['population']\n",
    "df_ethnicgroup"
   ]
  },
  {
   "cell_type": "code",
   "execution_count": 419,
   "metadata": {
    "collapsed": false
   },
   "outputs": [
    {
     "data": {
      "text/html": [
       "<div>\n",
       "<table border=\"1\" class=\"dataframe\">\n",
       "  <thead>\n",
       "    <tr style=\"text-align: right;\">\n",
       "      <th></th>\n",
       "      <th>river name</th>\n",
       "      <th>countries</th>\n",
       "      <th>river length</th>\n",
       "    </tr>\n",
       "  </thead>\n",
       "  <tbody>\n",
       "    <tr>\n",
       "      <th>174</th>\n",
       "      <td>Amazonas</td>\n",
       "      <td>CO BR PE</td>\n",
       "      <td>6448.0</td>\n",
       "    </tr>\n",
       "  </tbody>\n",
       "</table>\n",
       "</div>"
      ],
      "text/plain": [
       "    river name countries  river length\n",
       "174   Amazonas  CO BR PE        6448.0"
      ]
     },
     "execution_count": 419,
     "metadata": {},
     "output_type": "execute_result"
    }
   ],
   "source": [
    "#Question 4a - Name and Country of longest river and highest elevation airport\n",
    "import pandas as pd\n",
    "\n",
    "df_river = []\n",
    "\n",
    "for element in document.iterfind('river'):\n",
    "    river_length = element.findtext('length')\n",
    "    river_name = element.find('name').text\n",
    "    river_name = str(river_name)\n",
    "    river_country = element.attrib.get('country')\n",
    "    river_country = str(river_country)\n",
    "    df_river.append([river_name,river_country,river_length])\n",
    "    \n",
    "df_river = pd.DataFrame(df_river,columns=['river name','countries','river length'])\n",
    "df_river['river length'] = df_river['river length'].astype(float)\n",
    "df_river = df_river.sort_values('river length', ascending = False).head(1)\n",
    "df_river\n",
    "\n"
   ]
  },
  {
   "cell_type": "code",
   "execution_count": 420,
   "metadata": {
    "collapsed": false
   },
   "outputs": [
    {
     "data": {
      "text/html": [
       "<div>\n",
       "<table border=\"1\" class=\"dataframe\">\n",
       "  <thead>\n",
       "    <tr style=\"text-align: right;\">\n",
       "      <th></th>\n",
       "      <th>lake name</th>\n",
       "      <th>countries</th>\n",
       "      <th>lake size</th>\n",
       "    </tr>\n",
       "  </thead>\n",
       "  <tbody>\n",
       "    <tr>\n",
       "      <th>54</th>\n",
       "      <td>Caspian Sea</td>\n",
       "      <td>R AZ KAZ IR TM</td>\n",
       "      <td>386400.0</td>\n",
       "    </tr>\n",
       "  </tbody>\n",
       "</table>\n",
       "</div>"
      ],
      "text/plain": [
       "      lake name       countries  lake size\n",
       "54  Caspian Sea  R AZ KAZ IR TM   386400.0"
      ]
     },
     "execution_count": 420,
     "metadata": {},
     "output_type": "execute_result"
    }
   ],
   "source": [
    "#Question 4b Name and Country of largest lake \n",
    "\n",
    "df_lake = []\n",
    "\n",
    "for element in document.iterfind('lake'):\n",
    "        lake_name = element.find('name').text\n",
    "        lake_country = element.get('country')\n",
    "        lake_area = element.findtext('area')\n",
    "        df_lake.append([lake_name,lake_country,lake_area])\n",
    "    \n",
    "df_lake = pd.DataFrame(df_lake,columns=['lake name','countries','lake size'])\n",
    "df_lake['lake size'] = df_lake['lake size'].astype(float)\n",
    "df_lake.sort_values('lake size', ascending = False).head(1)"
   ]
  },
  {
   "cell_type": "code",
   "execution_count": 421,
   "metadata": {
    "collapsed": false
   },
   "outputs": [
    {
     "data": {
      "text/html": [
       "<div>\n",
       "<table border=\"1\" class=\"dataframe\">\n",
       "  <thead>\n",
       "    <tr style=\"text-align: right;\">\n",
       "      <th></th>\n",
       "      <th>airport name</th>\n",
       "      <th>country</th>\n",
       "      <th>airport elevation</th>\n",
       "    </tr>\n",
       "  </thead>\n",
       "  <tbody>\n",
       "    <tr>\n",
       "      <th>80</th>\n",
       "      <td>El Alto Intl</td>\n",
       "      <td>BOL</td>\n",
       "      <td>4063.0</td>\n",
       "    </tr>\n",
       "  </tbody>\n",
       "</table>\n",
       "</div>"
      ],
      "text/plain": [
       "    airport name country  airport elevation\n",
       "80  El Alto Intl     BOL             4063.0"
      ]
     },
     "execution_count": 421,
     "metadata": {},
     "output_type": "execute_result"
    }
   ],
   "source": [
    "#Question 4c Name and Country of highest elevation airport\n",
    "df_airport = []\n",
    "\n",
    "for element in document.iterfind('airport'):\n",
    "        airport_name = element.find('name').text\n",
    "        airport_country = element.get('country')\n",
    "        airport_elevation = element.find('elevation').text\n",
    "        df_airport.append([airport_name, airport_country, airport_elevation])\n",
    "    \n",
    "df_airport = pd.DataFrame(df_airport,columns=['airport name','country', 'airport elevation'])\n",
    "df_airport['airport elevation'] = df_airport['airport elevation'].astype(float)\n",
    "df_airport.sort_values('airport elevation', ascending = False).head(1)\n"
   ]
  }
 ],
 "metadata": {
  "anaconda-cloud": {},
  "kernelspec": {
   "display_name": "Python [conda root]",
   "language": "python",
   "name": "conda-root-py"
  },
  "language_info": {
   "codemirror_mode": {
    "name": "ipython",
    "version": 3
   },
   "file_extension": ".py",
   "mimetype": "text/x-python",
   "name": "python",
   "nbconvert_exporter": "python",
   "pygments_lexer": "ipython3",
   "version": "3.5.2"
  }
 },
 "nbformat": 4,
 "nbformat_minor": 0
}
