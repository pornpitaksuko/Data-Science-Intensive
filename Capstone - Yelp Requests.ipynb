{
 "cells": [
  {
   "cell_type": "code",
   "execution_count": 70,
   "metadata": {
    "collapsed": false,
    "scrolled": false
   },
   "outputs": [
    {
     "name": "stderr",
     "output_type": "stream",
     "text": [
      "C:\\Users\\Olarn\\Anaconda3\\lib\\site-packages\\bs4\\__init__.py:181: UserWarning: No parser was explicitly specified, so I'm using the best available HTML parser for this system (\"lxml\"). This usually isn't a problem, but if you run this code on another system, or in a different virtual environment, it may use a different parser and behave differently.\n",
      "\n",
      "The code that caused this warning is on line 184 of the file C:\\Users\\Olarn\\Anaconda3\\lib\\runpy.py. To get rid of this warning, change code that looks like this:\n",
      "\n",
      " BeautifulSoup([your markup])\n",
      "\n",
      "to this:\n",
      "\n",
      " BeautifulSoup([your markup], \"lxml\")\n",
      "\n",
      "  markup_type=markup_type))\n"
     ]
    }
   ],
   "source": [
    "import requests\n",
    "from bs4 import BeautifulSoup\n",
    "import os.path\n",
    "\n",
    "#this is the first restaurant we are downloading reviews for\n",
    "restaurant_url = 'https://www.yelp.com/biz/erawan-thai-cuisine-bayside'\n",
    "\n",
    "#download the reviews on the first page of a restaurant\n",
    "restaurant_reviews_raw = []\n",
    "r = requests.get(restaurant_url)\n",
    "yelp_text = r.text\n",
    "soup = BeautifulSoup(yelp_text)\n",
    "restaurant_reviews_raw.append(soup.encode(\"utf-8\"))\n",
    "\n",
    "\n",
    "#extracts the number of reviews a restaurant has received\n",
    "reviews = soup.find('span',{'class':'review-count rating-qualifier'}).contents\n",
    "reviews = str(reviews)\n",
    "reviews = [int(s) for s in reviews.split() if s.isdigit()]\n",
    "review_count = reviews[0]\n",
    "\n",
    "#determines the total number of pages we will need to download per restaurant based on number of reviews\n",
    "review_pages = int(review_count/20) - 1\n",
    "if review_count%20 > 0:\n",
    "    review_pages += 1\n",
    "\n",
    "#download the reviews located on all other yelp pages\n",
    "#create a list of request parameter inputs to feed into a FOR loop with requests. Each parameter represents another page.\n",
    "params_variable = []\n",
    "for number in range(review_pages):\n",
    "    number = (number+1)*20\n",
    "    params_variable.append({'start' : number })\n",
    "\n",
    "#feed the list into requests to download all webpages\n",
    "for param in params_variable:\n",
    "    temp_r = requests.get(restaurant_url,params = param)\n",
    "    temp_text = temp_r.text\n",
    "    temp_soup = BeautifulSoup(temp_text)\n",
    "    restaurant_reviews_raw.append(temp_soup.encode(\"utf-8\"))\n",
    "\n",
    "\n",
    "#save data to an output file\n",
    "save_path = r'C:\\Users\\Olarn\\Desktop\\Data Science\\Springboard'\n",
    "completeName = os.path.join(save_path, 'erawan.txt')\n",
    "\n",
    "thefile = open(completeName, 'w')\n",
    "for item in restaurant_reviews_raw:\n",
    "    thefile.write(\"%s\\n\" % item)\n",
    "\n",
    "thefile.close()\n",
    "    "
   ]
  }
 ],
 "metadata": {
  "anaconda-cloud": {},
  "kernelspec": {
   "display_name": "Python [default]",
   "language": "python",
   "name": "python3"
  },
  "language_info": {
   "codemirror_mode": {
    "name": "ipython",
    "version": 3
   },
   "file_extension": ".py",
   "mimetype": "text/x-python",
   "name": "python",
   "nbconvert_exporter": "python",
   "pygments_lexer": "ipython3",
   "version": "3.5.2"
  }
 },
 "nbformat": 4,
 "nbformat_minor": 1
}
